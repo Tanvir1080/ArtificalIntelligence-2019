{
  "nbformat": 4,
  "nbformat_minor": 0,
  "metadata": {
    "colab": {
      "name": "CustomFeaturesForDigits.ipynb",
      "provenance": [],
      "collapsed_sections": [],
      "include_colab_link": true
    },
    "kernelspec": {
      "name": "python3",
      "display_name": "Python 3"
    },
    "accelerator": "GPU"
  },
  "cells": [
    {
      "cell_type": "markdown",
      "metadata": {
        "id": "view-in-github",
        "colab_type": "text"
      },
      "source": [
        "<a href=\"https://colab.research.google.com/github/Tanvir1080/ArtificalIntelligence-2019/blob/master/CustomFeaturesForDigits.ipynb\" target=\"_parent\"><img src=\"https://colab.research.google.com/assets/colab-badge.svg\" alt=\"Open In Colab\"/></a>"
      ]
    },
    {
      "cell_type": "markdown",
      "metadata": {
        "id": "Myepjmbk3Yzx",
        "colab_type": "text"
      },
      "source": [
        "## Load Dataset and Preprocess"
      ]
    },
    {
      "cell_type": "code",
      "metadata": {
        "id": "ly0TJIwl3nQg",
        "colab_type": "code",
        "outputId": "96b867d9-1860-49c6-b9f7-85a72a4c5d86",
        "colab": {
          "base_uri": "https://localhost:8080/",
          "height": 34
        }
      },
      "source": [
        "from keras.datasets import mnist\n",
        "from matplotlib import pyplot as plt\n",
        "import numpy as np\n",
        "import tensorflow as tf\n",
        "from tensorflow import keras\n",
        "from keras.models import Sequential\n",
        "from keras.layers import Dense, Activation\n",
        "from keras.utils import to_categorical\n",
        "\n",
        "(trainImagesOriginal, trainLabelsOriginal), (testImagesOriginal, testLabelsOriginal) = mnist.load_data()\n",
        "\n",
        "trainImages = trainImagesOriginal.reshape((60000, 28 * 28))\n",
        "trainImages = trainImages.astype('float32') / 255\n",
        "\n",
        "testImages = testImagesOriginal.reshape((10000, 28 * 28))\n",
        "testImages = testImages.astype('float32') / 255"
      ],
      "execution_count": 14,
      "outputs": [
        {
          "output_type": "execute_result",
          "data": {
            "text/plain": [
              "(60000, 784)"
            ]
          },
          "metadata": {
            "tags": []
          },
          "execution_count": 14
        }
      ]
    },
    {
      "cell_type": "code",
      "metadata": {
        "id": "VdnPjddjZ5uY",
        "colab_type": "code",
        "colab": {}
      },
      "source": [
        "trainLabels = to_categorical(trainLabelsOriginal)\n",
        "testLabels = to_categorical(testLabelsOriginal)"
      ],
      "execution_count": 0,
      "outputs": []
    },
    {
      "cell_type": "code",
      "metadata": {
        "id": "M2u5_ZQLCaH2",
        "colab_type": "code",
        "colab": {}
      },
      "source": [
        "def calcHeight(image):\n",
        "  # Max row val\n",
        "  firstRow = 28; \n",
        "\n",
        "  # Minimum row val\n",
        "  lastRow = 0;   \n",
        "\n",
        "  for row in range(image.shape[0]):\n",
        "    for col in range(image.shape[1]):\n",
        "      if image[row][col] !=0:\n",
        "        if row < firstRow:\n",
        "          firstRow = row\n",
        "        if row > lastRow:\n",
        "          lastRow = row\n",
        "\n",
        "  # normalize data before return \n",
        "  return (lastRow-firstRow)/28 \n",
        "\n",
        "def calcWidth(image):\n",
        "  # Max row val \n",
        "  firstCol = 28;\n",
        "\n",
        "  # Minimum row val  \n",
        "  lastCol = 0;   \n",
        "\n",
        "  for row in range(image.shape[0]):\n",
        "    for col in range(image.shape[1]):\n",
        "      if image[row][col] !=0:\n",
        "        if col < firstCol:\n",
        "          firstCol = row\n",
        "        if col > lastCol:\n",
        "          lastCol = row\n",
        "\n",
        "  # normalize data before return \n",
        "  return (lastCol-firstCol)/28 \n",
        "\n",
        "width = np.array([calcWidth(item) for item in trainImagesOriginal])\n",
        "height = np.array([calcHeight(item) for item in trainImagesOriginal])\n",
        "\n",
        "testWidth = np.array([calcWidth(item) for item in testImagesOriginal])\n",
        "testHeight = np.array([calcHeight(item) for item in testImagesOriginal])"
      ],
      "execution_count": 0,
      "outputs": []
    },
    {
      "cell_type": "code",
      "metadata": {
        "id": "tlON4TjNFzmX",
        "colab_type": "code",
        "colab": {}
      },
      "source": [
        "finalTrain = np.column_stack((trainImages, height, width))\n",
        "finalTest = np.column_stack((testImages, testHeight, testWidth))"
      ],
      "execution_count": 0,
      "outputs": []
    },
    {
      "cell_type": "code",
      "metadata": {
        "id": "CMF4w21yE61M",
        "colab_type": "code",
        "colab": {
          "base_uri": "https://localhost:8080/",
          "height": 374
        },
        "outputId": "f8bf2c8b-ee4c-4fcc-dace-8095bd5a4f86"
      },
      "source": [
        "model = keras.Sequential([\n",
        "    keras.layers.Dense(1024, activation=tf.nn.relu, input_shape=((28 * 28)+2,)),\n",
        "    keras.layers.Dropout(0.2),\n",
        "    keras.layers.Dense(10, activation=tf.nn.softmax)\n",
        "])\n",
        "\n",
        "model.compile(optimizer='rmsprop',\n",
        "                loss='categorical_crossentropy',\n",
        "                metrics=['accuracy'])\n",
        "\n",
        "epochs = 10\n",
        "history = model.fit(finalTrain, \n",
        "                      trainLabels, \n",
        "                      epochs=epochs, \n",
        "                      batch_size=128, \n",
        "                      validation_data=(finalTest, testLabels))"
      ],
      "execution_count": 24,
      "outputs": [
        {
          "output_type": "stream",
          "text": [
            "Train on 60000 samples, validate on 10000 samples\n",
            "Epoch 1/10\n",
            "60000/60000 [==============================] - 2s 30us/sample - loss: 0.2434 - acc: 0.9273 - val_loss: 0.1106 - val_acc: 0.9644\n",
            "Epoch 2/10\n",
            "60000/60000 [==============================] - 2s 28us/sample - loss: 0.0997 - acc: 0.9697 - val_loss: 0.0825 - val_acc: 0.9733\n",
            "Epoch 3/10\n",
            "60000/60000 [==============================] - 2s 27us/sample - loss: 0.0685 - acc: 0.9794 - val_loss: 0.0664 - val_acc: 0.9794\n",
            "Epoch 4/10\n",
            "60000/60000 [==============================] - 2s 28us/sample - loss: 0.0523 - acc: 0.9845 - val_loss: 0.0722 - val_acc: 0.9786\n",
            "Epoch 5/10\n",
            "60000/60000 [==============================] - 2s 28us/sample - loss: 0.0401 - acc: 0.9875 - val_loss: 0.0709 - val_acc: 0.9794\n",
            "Epoch 6/10\n",
            "60000/60000 [==============================] - 2s 29us/sample - loss: 0.0340 - acc: 0.9891 - val_loss: 0.0684 - val_acc: 0.9793\n",
            "Epoch 7/10\n",
            "60000/60000 [==============================] - 2s 27us/sample - loss: 0.0274 - acc: 0.9914 - val_loss: 0.0673 - val_acc: 0.9808\n",
            "Epoch 8/10\n",
            "60000/60000 [==============================] - 2s 28us/sample - loss: 0.0224 - acc: 0.9931 - val_loss: 0.0636 - val_acc: 0.9833\n",
            "Epoch 9/10\n",
            "60000/60000 [==============================] - 2s 27us/sample - loss: 0.0193 - acc: 0.9940 - val_loss: 0.0646 - val_acc: 0.9830\n",
            "Epoch 10/10\n",
            "60000/60000 [==============================] - 2s 28us/sample - loss: 0.0164 - acc: 0.9947 - val_loss: 0.0673 - val_acc: 0.9831\n"
          ],
          "name": "stdout"
        }
      ]
    },
    {
      "cell_type": "code",
      "metadata": {
        "id": "scE9Q9aVlRBK",
        "colab_type": "code",
        "colab": {}
      },
      "source": [
        "history_dict = history.history\n",
        "loss_values = history_dict['loss']\n",
        "test_loss_values = history_dict['val_loss']\n",
        "epochs_range = range(1, epochs + 1)"
      ],
      "execution_count": 0,
      "outputs": []
    },
    {
      "cell_type": "code",
      "metadata": {
        "id": "TiMaqMEWlSnj",
        "colab_type": "code",
        "colab": {
          "base_uri": "https://localhost:8080/",
          "height": 295
        },
        "outputId": "4f5425b1-c66f-439c-e061-f4d3208ece0b"
      },
      "source": [
        "plt.plot(epochs_range, loss_values, 'bo', label='Training loss')\n",
        "plt.plot(epochs_range, test_loss_values, 'ro', label='Test loss')\n",
        "plt.title('Training and test loss')\n",
        "plt.xlabel('Epochs')\n",
        "plt.ylabel('Loss')\n",
        "plt.legend()\n",
        "plt.show()"
      ],
      "execution_count": 32,
      "outputs": [
        {
          "output_type": "display_data",
          "data": {
            "image/png": "[encoded data removed]",
            "text/plain": [
              "<Figure size 432x288 with 1 Axes>"
            ]
          },
          "metadata": {
            "tags": []
          }
        }
      ]
    },
    {
      "cell_type": "code",
      "metadata": {
        "id": "yVqFlLTnlUp0",
        "colab_type": "code",
        "colab": {}
      },
      "source": [
        "acc_values = history_dict['acc']\n",
        "test_acc_values = history_dict['val_acc']"
      ],
      "execution_count": 0,
      "outputs": []
    },
    {
      "cell_type": "code",
      "metadata": {
        "id": "TTE2yaQclVt2",
        "colab_type": "code",
        "colab": {
          "base_uri": "https://localhost:8080/",
          "height": 295
        },
        "outputId": "779378b1-4914-4ca5-c23f-e0354b824df6"
      },
      "source": [
        "plt.plot(epochs_range, acc_values, 'bo', label='Training accuracy')\n",
        "plt.plot(epochs_range, test_acc_values, 'ro', label='Test accuracy')\n",
        "plt.title('Training and test accuracy')\n",
        "plt.xlabel('Epochs')\n",
        "plt.ylabel('Accuracy')\n",
        "plt.legend()\n",
        "plt.show()"
      ],
      "execution_count": 34,
      "outputs": [
        {
          "output_type": "display_data",
          "data": {
            "image/png": "[encoded data removed]",
            "text/plain": [
              "<Figure size 432x288 with 1 Axes>"
            ]
          },
          "metadata": {
            "tags": []
          }
        }
      ]
    }
  ]
}