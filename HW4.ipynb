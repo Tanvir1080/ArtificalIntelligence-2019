{
  "nbformat": 4,
  "nbformat_minor": 0,
  "metadata": {
    "colab": {
      "name": "HW4.ipynb",
      "provenance": [],
      "collapsed_sections": [
        "cFDxJVG_ztCc",
        "3RQP3fODhUyZ",
        "RutQ268l_Ri8",
        "6CGfJX9eAo-N",
        "GcUcE9MMH9Tl",
        "SXHn-wSkJeIC",
        "94Vkgo1LtAbC"
      ],
      "include_colab_link": true
    },
    "kernelspec": {
      "name": "python3",
      "display_name": "Python 3"
    }
  },
  "cells": [
    {
      "cell_type": "markdown",
      "metadata": {
        "id": "view-in-github",
        "colab_type": "text"
      },
      "source": [
        "<a href=\"https://colab.research.google.com/github/Tanvir1080/ArtificalIntelligence-2019/blob/master/HW4.ipynb\" target=\"_parent\"><img src=\"https://colab.research.google.com/assets/colab-badge.svg\" alt=\"Open In Colab\"/></a>"
      ]
    },
    {
      "cell_type": "markdown",
      "metadata": {
        "id": "N93n3DrSzXLl",
        "colab_type": "text"
      },
      "source": [
        "# Summary of Fall 2019 Artificial Intelligence "
      ]
    },
    {
      "cell_type": "markdown",
      "metadata": {
        "id": "cFDxJVG_ztCc",
        "colab_type": "text"
      },
      "source": [
        "## General Concepts"
      ]
    },
    {
      "cell_type": "markdown",
      "metadata": {
        "id": "kfIqeT9Tz1Do",
        "colab_type": "text"
      },
      "source": [
        "* Artificial Intelligence\n",
        "  * The development of computer systems to do tasks that humans are able to do normally \n",
        "  * Humans are able to easily do things on a \"large-scale\" like identification whereas computers are good at \"small-scale\" like computation \n",
        "  * Consists of things like speech recognition, decision making, object detection, etc. \n",
        "\n",
        "* Machine Learning\n",
        "  * A branch of artificial intelligence focuses on creating a system with the ability to learn from its own mistakes.  \n",
        "  * Without explicit programming, the system could improve from past experiences \n",
        "\n",
        "* Deep Learning\n",
        "  * A broader family of machine learning that focuses on artificial neural networks\n",
        "  * Multipla layers are used that extract different features at different depths of the network \n",
        "  * This allows for overall perception and understanding after all layers have been covered\n",
        "\n",
        "* Major Types of learning\n",
        "  * Supervised Learning\n",
        "    * The model is given labeled training data \n",
        "  * Unsupervised Learning\n",
        "    * The model must learn from an unlabeled data set to identify meaningful patterns in data \n",
        "  * Reinforcement Learning \n",
        "    * You have a general goal such as \"never lose a game\" and tell the model just not to get a \"game over\" screen \n",
        "    * The model will then attempt to learn using that as a basis\n"
      ]
    },
    {
      "cell_type": "markdown",
      "metadata": {
        "id": "3RQP3fODhUyZ",
        "colab_type": "text"
      },
      "source": [
        "## Building A Model"
      ]
    },
    {
      "cell_type": "markdown",
      "metadata": {
        "id": "02QBR68ahZAL",
        "colab_type": "text"
      },
      "source": [
        "- Layers are like the lego building blocks of models \n",
        "- You build models by using different compatible layers to form useful data processing pipelines \n",
        "- Each layer accepts input of specific shape and outputs with a specific shape "
      ]
    },
    {
      "cell_type": "markdown",
      "metadata": {
        "id": "mkkZMhRms7fA",
        "colab_type": "text"
      },
      "source": [
        "There are different types of models you can build, each with cases where they work better than others \n",
        "\n",
        "Two common models are: \n",
        "- Sequential neural networks with dense layers \n",
        "- Convolutional Neural Networks"
      ]
    },
    {
      "cell_type": "markdown",
      "metadata": {
        "id": "RutQ268l_Ri8",
        "colab_type": "text"
      },
      "source": [
        "### Sequential Layer "
      ]
    },
    {
      "cell_type": "markdown",
      "metadata": {
        "id": "DemOghdX_WoB",
        "colab_type": "text"
      },
      "source": [
        "* Ideal for most situations where deep learning models are needed but has limitations \n",
        "* Best used when associatino can exist among any feature to other features in a data point \n",
        "* Cannot \n",
        "  * handle multiple different input sources \n",
        "  * product multiple output destinations \n",
        "  * hard to make a model that reuses layers "
      ]
    },
    {
      "cell_type": "markdown",
      "metadata": {
        "id": "6CGfJX9eAo-N",
        "colab_type": "text"
      },
      "source": [
        "### Convolutional Neural Network"
      ]
    },
    {
      "cell_type": "markdown",
      "metadata": {
        "id": "xwoSLaasAvUC",
        "colab_type": "text"
      },
      "source": [
        "* Convolutional layers are best used when nearby associations among the feature points are important \n",
        "  * Such as object detection whereoverall perception is the goal \n",
        "* Pixels that are farther away from each other probably do not have as much of a relationship so making connections between these points aren't required "
      ]
    },
    {
      "cell_type": "markdown",
      "metadata": {
        "id": "GcUcE9MMH9Tl",
        "colab_type": "text"
      },
      "source": [
        "## Compiling A Model"
      ]
    },
    {
      "cell_type": "markdown",
      "metadata": {
        "id": "lLJqJSKfIDi1",
        "colab_type": "text"
      },
      "source": [
        "### Learning Rate"
      ]
    },
    {
      "cell_type": "markdown",
      "metadata": {
        "id": "n0hFwGN2IJWW",
        "colab_type": "text"
      },
      "source": [
        "- One of the most important hyperparameters a programmer must account for when developing their model \n",
        "- Too low \n",
        "  - Learning will take far too long to be feasible \n",
        "- Too high \n",
        "  - The model will overshoot the minimum of the gradient descent and won't be accurate \n",
        "- The perfect number is related to how flat the loss function is for that regression"
      ]
    },
    {
      "cell_type": "markdown",
      "metadata": {
        "id": "DyrDJXkAIQck",
        "colab_type": "text"
      },
      "source": [
        "### Loss"
      ]
    },
    {
      "cell_type": "markdown",
      "metadata": {
        "id": "-TlCpfsmIXI4",
        "colab_type": "text"
      },
      "source": [
        "- Loss is the penalty for a bad prediction \n",
        "- It indicates how bad the model's prediction was on a single case\n",
        "- You ideally want a low average loss across all examples \n",
        "- Fortunately there are guidelines for choosing the correct loss function for different problem types you're solving "
      ]
    },
    {
      "cell_type": "markdown",
      "metadata": {
        "id": "SXHn-wSkJeIC",
        "colab_type": "text"
      },
      "source": [
        "## Training A Model "
      ]
    },
    {
      "cell_type": "markdown",
      "metadata": {
        "id": "9VERCDZCJnYi",
        "colab_type": "text"
      },
      "source": [
        "### Fitting"
      ]
    },
    {
      "cell_type": "markdown",
      "metadata": {
        "id": "vFjht5X-JrJm",
        "colab_type": "text"
      },
      "source": [
        "- When training a model, you want it to be reliable as well as output acceptable results \n",
        "\n",
        "- Underfitting \n",
        "  - This describes a model that just does not work for our data.  The accuracy for both training and testing is too low \n",
        "- Overfitting \n",
        "  - This describes a model that has become too used to the training data, for which it produces a high accuracy.  \n",
        "  - However, instead of having actually learned features all it did was found patterns in the training to look for so the accuracy for test data falls far below the training one"
      ]
    },
    {
      "cell_type": "markdown",
      "metadata": {
        "id": "94Vkgo1LtAbC",
        "colab_type": "text"
      },
      "source": [
        "## Finetuning A Pretrained Model "
      ]
    },
    {
      "cell_type": "markdown",
      "metadata": {
        "id": "gpV96g9ptJYW",
        "colab_type": "text"
      },
      "source": [
        "This is the more efficient appproach to developing networks because creating a brand new model from scratch is usually not feasible \n",
        "- It requires huge data \n",
        "- It requires huge computing power \n",
        "\n",
        "Instead, you can use a pre trained network and modify it to your specific task, which is called fine tuning \n",
        "- The initial layers of all models usually identify very general features \n",
        "- As you go higher up the network, the layers start to identify specific features for the task \n",
        "- These are the layers you would want to modify \n",
        "\n",
        "Using Keras as an example, you can load a pre trained network and not include the top layers\n",
        "\n",
        "Then you want to freeze specific layers (not train them) so you can access the `trainable` field for each layer and set them to False to freeze it \n",
        "\n",
        "Then you can add in the classifier layers needed for your scenario on top of the modified network to create your new model\n",
        "\n",
        "You can also do other methods such as \n",
        "- Truncate the last layer of the network and replace it with your own \n",
        "  - This is helpful mostly if the model and your use case are very similar so you don't need neet to retrain the other layers \n",
        "- Modifying the learning rate \n",
        "  - A common practice is to use a new learning rate that's 10 times smaller than used for scratch training \n"
      ]
    }
  ]
}