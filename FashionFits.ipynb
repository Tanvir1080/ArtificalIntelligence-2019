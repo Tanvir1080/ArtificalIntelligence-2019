{
  "nbformat": 4,
  "nbformat_minor": 0,
  "metadata": {
    "colab": {
      "name": "FashionFits.ipynb",
      "provenance": [],
      "collapsed_sections": [
        "JC5iBT_0OCSl",
        "mORb9IwPP7oE",
        "2zpnxENIWj4N",
        "MX2EqMuqOskz"
      ],
      "include_colab_link": true
    },
    "kernelspec": {
      "name": "python3",
      "display_name": "Python 3"
    },
    "accelerator": "GPU"
  },
  "cells": [
    {
      "cell_type": "markdown",
      "metadata": {
        "id": "view-in-github",
        "colab_type": "text"
      },
      "source": [
        "<a href=\"https://colab.research.google.com/github/Tanvir1080/ArtificalIntelligence-2019/blob/master/FashionFits.ipynb\" target=\"_parent\"><img src=\"https://colab.research.google.com/assets/colab-badge.svg\" alt=\"Open In Colab\"/></a>"
      ]
    },
    {
      "cell_type": "markdown",
      "metadata": {
        "id": "rt44vyY1xW9b",
        "colab_type": "text"
      },
      "source": [
        "# MNIST fashion data set"
      ]
    },
    {
      "cell_type": "markdown",
      "metadata": {
        "id": "l34GNy7tyNks",
        "colab_type": "text"
      },
      "source": [
        "## Loading the MNIST fashion data set"
      ]
    },
    {
      "cell_type": "code",
      "metadata": {
        "id": "FSJyddqGexl5",
        "colab_type": "code",
        "outputId": "e2fa9900-001f-4cff-a539-10bf4f48cabf",
        "colab": {
          "base_uri": "https://localhost:8080/",
          "height": 236
        }
      },
      "source": [
        "import tensorflow as tf\n",
        "from tensorflow import keras\n",
        "import matplotlib.pyplot as plt\n",
        "import numpy as np\n",
        "\n",
        "fashion_mnist = keras.datasets.fashion_mnist\n",
        "\n",
        "(train_images, train_labels), (test_images, test_labels) = fashion_mnist.load_data()\n",
        "\n",
        "class_names = ['T-shirt/top', 'Trouser', 'Pullover', 'Dress', 'Coat',\n",
        "               'Sandal', 'Shirt', 'Sneaker', 'Bag', 'Ankle boot']"
      ],
      "execution_count": 0,
      "outputs": [
        {
          "output_type": "display_data",
          "data": {
            "text/html": [
              "<p style=\"color: red;\">\n",
              "The default version of TensorFlow in Colab will soon switch to TensorFlow 2.x.<br>\n",
              "We recommend you <a href=\"https://www.tensorflow.org/guide/migrate\" target=\"_blank\">upgrade</a> now \n",
              "or ensure your notebook will continue to use TensorFlow 1.x via the <code>%tensorflow_version 1.x</code> magic:\n",
              "<a href=\"https://colab.research.google.com/notebooks/tensorflow_version.ipynb\" target=\"_blank\">more info</a>.</p>\n"
            ],
            "text/plain": [
              "<IPython.core.display.HTML object>"
            ]
          },
          "metadata": {
            "tags": []
          }
        },
        {
          "output_type": "stream",
          "text": [
            "Downloading data from https://storage.googleapis.com/tensorflow/tf-keras-datasets/train-labels-idx1-ubyte.gz\n",
            "32768/29515 [=================================] - 0s 0us/step\n",
            "Downloading data from https://storage.googleapis.com/tensorflow/tf-keras-datasets/train-images-idx3-ubyte.gz\n",
            "26427392/26421880 [==============================] - 0s 0us/step\n",
            "Downloading data from https://storage.googleapis.com/tensorflow/tf-keras-datasets/t10k-labels-idx1-ubyte.gz\n",
            "8192/5148 [===============================================] - 0s 0us/step\n",
            "Downloading data from https://storage.googleapis.com/tensorflow/tf-keras-datasets/t10k-images-idx3-ubyte.gz\n",
            "4423680/4422102 [==============================] - 0s 0us/step\n"
          ],
          "name": "stdout"
        }
      ]
    },
    {
      "cell_type": "markdown",
      "metadata": {
        "id": "dmQ2siA7ywPx",
        "colab_type": "text"
      },
      "source": [
        "## Displaying some MNIST fashion items"
      ]
    },
    {
      "cell_type": "code",
      "metadata": {
        "id": "1Gdt3obzgQaY",
        "colab_type": "code",
        "outputId": "b2cdcb48-f330-4225-872e-62a9a6431391",
        "colab": {
          "base_uri": "https://localhost:8080/",
          "height": 589
        }
      },
      "source": [
        "plt.figure(figsize=(10,10))\n",
        "indices = np.random.choice(np.arange(60000), size=25, replace=False)\n",
        "for i in range(25):\n",
        "    plt.subplot(5,5,i+1)\n",
        "    plt.xticks([])\n",
        "    plt.yticks([])\n",
        "    plt.grid(False)\n",
        "    plt.imshow(train_images[i], cmap=plt.cm.binary)\n",
        "    plt.xlabel(class_names[train_labels[i]])\n",
        "plt.show()"
      ],
      "execution_count": 0,
      "outputs": [
        {
          "output_type": "display_data",
          "data": {
            "image/png": "[encoded data removed]",
            "text/plain": [
              "<Figure size 720x720 with 25 Axes>"
            ]
          },
          "metadata": {
            "tags": []
          }
        }
      ]
    },
    {
      "cell_type": "markdown",
      "metadata": {
        "id": "Rcch4U30N53_",
        "colab_type": "text"
      },
      "source": [
        "The data must be preprocessed before training the network. If you inspect the first image in the training set, you will see that the pixel values fall in the range of 0 to 255:"
      ]
    },
    {
      "cell_type": "code",
      "metadata": {
        "id": "luvWbddTMtTX",
        "colab_type": "code",
        "outputId": "359aad9c-a3a6-4439-80f5-d641cbfe0452",
        "colab": {
          "base_uri": "https://localhost:8080/",
          "height": 265
        }
      },
      "source": [
        "plt.figure()\n",
        "plt.imshow(train_images[0])\n",
        "plt.colorbar()\n",
        "plt.grid(False)\n",
        "plt.show()"
      ],
      "execution_count": 0,
      "outputs": [
        {
          "output_type": "display_data",
          "data": {
            "image/png": "[encoded data removed]",
            "text/plain": [
              "<Figure size 432x288 with 2 Axes>"
            ]
          },
          "metadata": {
            "tags": []
          }
        }
      ]
    },
    {
      "cell_type": "markdown",
      "metadata": {
        "id": "JC5iBT_0OCSl",
        "colab_type": "text"
      },
      "source": [
        "## Preprocess the data"
      ]
    },
    {
      "cell_type": "code",
      "metadata": {
        "id": "inugSPsZNytV",
        "colab_type": "code",
        "colab": {}
      },
      "source": [
        "train_images = train_images / 255.0\n",
        "test_images = test_images / 255.0"
      ],
      "execution_count": 0,
      "outputs": []
    },
    {
      "cell_type": "markdown",
      "metadata": {
        "id": "OA975wHjOJI-",
        "colab_type": "text"
      },
      "source": [
        "## Balanced Model"
      ]
    },
    {
      "cell_type": "code",
      "metadata": {
        "id": "ZX6SGTpMOIKN",
        "colab_type": "code",
        "outputId": "ec181a81-74be-410e-d35d-1050ec3a01da",
        "colab": {
          "base_uri": "https://localhost:8080/",
          "height": 785
        }
      },
      "source": [
        "# set up the layers\n",
        "# Balanced model \n",
        "model = keras.Sequential([\n",
        "    keras.layers.Flatten(input_shape=(28, 28)),\n",
        "    keras.layers.Dense(1024, activation=tf.nn.relu),\n",
        "    keras.layers.Dropout(0.5),\n",
        "    keras.layers.Dense(1024, activation=tf.nn.relu),\n",
        "    keras.layers.Dense(1024, activation=tf.nn.relu),\n",
        "    keras.layers.Dropout(0.5),\n",
        "    keras.layers.Dense(10, activation=tf.nn.softmax)\n",
        "])\n",
        "\n",
        "# compile the model\n",
        "\n",
        "model.compile(optimizer='adam',\n",
        "             loss='sparse_categorical_crossentropy',\n",
        "             metrics=['accuracy'])\n",
        "\n",
        "# train the model\n",
        "epochs = 20\n",
        "history = model.fit(train_images, \n",
        "                      train_labels, \n",
        "                      epochs=epochs,  \n",
        "                      validation_data=(test_images, test_labels))"
      ],
      "execution_count": 0,
      "outputs": [
        {
          "output_type": "stream",
          "text": [
            "WARNING:tensorflow:From /usr/local/lib/python3.6/dist-packages/tensorflow_core/python/ops/resource_variable_ops.py:1630: calling BaseResourceVariable.__init__ (from tensorflow.python.ops.resource_variable_ops) with constraint is deprecated and will be removed in a future version.\n",
            "Instructions for updating:\n",
            "If using Keras pass *_constraint arguments to layers.\n",
            "Train on 60000 samples, validate on 10000 samples\n",
            "Epoch 1/20\n",
            "60000/60000 [==============================] - 13s 217us/sample - loss: 0.6114 - acc: 0.7792 - val_loss: 0.4703 - val_acc: 0.8273\n",
            "Epoch 2/20\n",
            "60000/60000 [==============================] - 12s 200us/sample - loss: 0.4928 - acc: 0.8241 - val_loss: 0.4482 - val_acc: 0.8421\n",
            "Epoch 3/20\n",
            "60000/60000 [==============================] - 12s 200us/sample - loss: 0.4593 - acc: 0.8358 - val_loss: 0.4038 - val_acc: 0.8562\n",
            "Epoch 4/20\n",
            "60000/60000 [==============================] - 12s 200us/sample - loss: 0.4397 - acc: 0.8443 - val_loss: 0.4011 - val_acc: 0.8566\n",
            "Epoch 5/20\n",
            "60000/60000 [==============================] - 12s 200us/sample - loss: 0.4240 - acc: 0.8467 - val_loss: 0.3926 - val_acc: 0.8610\n",
            "Epoch 6/20\n",
            "60000/60000 [==============================] - 12s 200us/sample - loss: 0.4179 - acc: 0.8500 - val_loss: 0.3808 - val_acc: 0.8658\n",
            "Epoch 7/20\n",
            "60000/60000 [==============================] - 12s 199us/sample - loss: 0.4098 - acc: 0.8555 - val_loss: 0.3855 - val_acc: 0.8655\n",
            "Epoch 8/20\n",
            "60000/60000 [==============================] - 12s 198us/sample - loss: 0.3998 - acc: 0.8574 - val_loss: 0.3802 - val_acc: 0.8649\n",
            "Epoch 9/20\n",
            "60000/60000 [==============================] - 12s 200us/sample - loss: 0.3932 - acc: 0.8599 - val_loss: 0.3718 - val_acc: 0.8619\n",
            "Epoch 10/20\n",
            "60000/60000 [==============================] - 12s 200us/sample - loss: 0.3955 - acc: 0.8596 - val_loss: 0.3800 - val_acc: 0.8625\n",
            "Epoch 11/20\n",
            "60000/60000 [==============================] - 12s 199us/sample - loss: 0.3907 - acc: 0.8616 - val_loss: 0.3580 - val_acc: 0.8753\n",
            "Epoch 12/20\n",
            "60000/60000 [==============================] - 12s 199us/sample - loss: 0.3829 - acc: 0.8655 - val_loss: 0.3770 - val_acc: 0.8647\n",
            "Epoch 13/20\n",
            "60000/60000 [==============================] - 12s 198us/sample - loss: 0.3820 - acc: 0.8642 - val_loss: 0.3632 - val_acc: 0.8682\n",
            "Epoch 14/20\n",
            "60000/60000 [==============================] - 12s 200us/sample - loss: 0.3786 - acc: 0.8667 - val_loss: 0.3695 - val_acc: 0.8718\n",
            "Epoch 15/20\n",
            "60000/60000 [==============================] - 12s 202us/sample - loss: 0.3729 - acc: 0.8704 - val_loss: 0.3513 - val_acc: 0.8713\n",
            "Epoch 16/20\n",
            "60000/60000 [==============================] - 12s 199us/sample - loss: 0.3674 - acc: 0.8694 - val_loss: 0.3552 - val_acc: 0.8725\n",
            "Epoch 17/20\n",
            "60000/60000 [==============================] - 12s 199us/sample - loss: 0.3705 - acc: 0.8704 - val_loss: 0.3628 - val_acc: 0.8742\n",
            "Epoch 18/20\n",
            "60000/60000 [==============================] - 12s 200us/sample - loss: 0.3691 - acc: 0.8701 - val_loss: 0.3548 - val_acc: 0.8731\n",
            "Epoch 19/20\n",
            "60000/60000 [==============================] - 12s 199us/sample - loss: 0.3577 - acc: 0.8730 - val_loss: 0.3417 - val_acc: 0.8765\n",
            "Epoch 20/20\n",
            "60000/60000 [==============================] - 12s 202us/sample - loss: 0.3585 - acc: 0.8738 - val_loss: 0.3581 - val_acc: 0.8744\n"
          ],
          "name": "stdout"
        }
      ]
    },
    {
      "cell_type": "markdown",
      "metadata": {
        "id": "mORb9IwPP7oE",
        "colab_type": "text"
      },
      "source": [
        "## Evaluate accuracy"
      ]
    },
    {
      "cell_type": "code",
      "metadata": {
        "id": "rlKIF6ijOkiE",
        "colab_type": "code",
        "outputId": "f6d82dcc-b7d2-454b-fd7a-3c8a78fd88af",
        "colab": {
          "base_uri": "https://localhost:8080/",
          "height": 51
        }
      },
      "source": [
        "test_loss, test_acc = model.evaluate(test_images, test_labels)\n",
        "\n",
        "print('Test accuracy:', test_acc)"
      ],
      "execution_count": 0,
      "outputs": [
        {
          "output_type": "stream",
          "text": [
            "10000/10000 [==============================] - 1s 85us/sample - loss: 0.3581 - acc: 0.8744\n",
            "Test accuracy: 0.8744\n"
          ],
          "name": "stdout"
        }
      ]
    },
    {
      "cell_type": "markdown",
      "metadata": {
        "id": "A4_diOE4QOqo",
        "colab_type": "text"
      },
      "source": [
        "It turns out, the accuracy on the test dataset is a little less than the accuracy on the training dataset. \n",
        "\n",
        "This gap between training accuracy and test accuracy is an example of **overfitting**. Overfitting is when a machine learning model performs worse on new data than on their training data.\n",
        "\n"
      ]
    },
    {
      "cell_type": "markdown",
      "metadata": {
        "id": "GqbGdV6oXEyP",
        "colab_type": "text"
      },
      "source": [
        "## Training/test loss/accuracy during training"
      ]
    },
    {
      "cell_type": "code",
      "metadata": {
        "id": "3b5OCE5YTrEc",
        "colab_type": "code",
        "colab": {}
      },
      "source": [
        "history_dict = history.history\n",
        "loss_values = history_dict['loss']\n",
        "test_loss_values = history_dict['val_loss']\n",
        "epochs_range = range(1, epochs+1)"
      ],
      "execution_count": 0,
      "outputs": []
    },
    {
      "cell_type": "code",
      "metadata": {
        "id": "y98AOblYT3Pk",
        "colab_type": "code",
        "outputId": "2d61583d-1bf6-4606-edee-bc84b55208f0",
        "colab": {
          "base_uri": "https://localhost:8080/",
          "height": 295
        }
      },
      "source": [
        "plt.plot(epochs_range, loss_values, 'bo', label='Training loss')\n",
        "plt.plot(epochs_range, test_loss_values, 'ro', label='Test loss')\n",
        "plt.title('Training and test loss')\n",
        "plt.xlabel('Epochs')\n",
        "plt.ylabel('Loss')\n",
        "plt.legend()\n",
        "plt.show()"
      ],
      "execution_count": 0,
      "outputs": [
        {
          "output_type": "display_data",
          "data": {
            "image/png": "[encoded data removed]",
            "text/plain": [
              "<Figure size 432x288 with 1 Axes>"
            ]
          },
          "metadata": {
            "tags": []
          }
        }
      ]
    },
    {
      "cell_type": "code",
      "metadata": {
        "id": "790AkDaTWuZU",
        "colab_type": "code",
        "colab": {}
      },
      "source": [
        "acc_values = history_dict['acc']\n",
        "test_acc_values = history_dict['val_acc']"
      ],
      "execution_count": 0,
      "outputs": []
    },
    {
      "cell_type": "code",
      "metadata": {
        "id": "7BkIfPQ4W39E",
        "colab_type": "code",
        "outputId": "8a147956-cf4a-433b-fcb2-424b5e570780",
        "colab": {
          "base_uri": "https://localhost:8080/",
          "height": 295
        }
      },
      "source": [
        "plt.plot(epochs_range, acc_values, 'bo', label='Training accuracy')\n",
        "plt.plot(epochs_range, test_acc_values, 'ro', label='Test accuracy')\n",
        "plt.title('Training and test accuracy')\n",
        "plt.xlabel('Epochs')\n",
        "plt.ylabel('Accuracy')\n",
        "plt.legend()\n",
        "plt.show()"
      ],
      "execution_count": 0,
      "outputs": [
        {
          "output_type": "display_data",
          "data": {
            "image/png": "[encoded data removed]",
            "text/plain": [
              "<Figure size 432x288 with 1 Axes>"
            ]
          },
          "metadata": {
            "tags": []
          }
        }
      ]
    },
    {
      "cell_type": "markdown",
      "metadata": {
        "id": "A1xWAY9g2uGE",
        "colab_type": "text"
      },
      "source": [
        "## Overfit Model\n"
      ]
    },
    {
      "cell_type": "code",
      "metadata": {
        "id": "JbMh9CXc24AU",
        "colab_type": "code",
        "outputId": "189da53c-9445-4654-db4a-fe1a5f88fcdb",
        "colab": {
          "base_uri": "https://localhost:8080/",
          "height": 734
        }
      },
      "source": [
        "# set up the layers\n",
        "\n",
        "model = keras.Sequential([\n",
        "    keras.layers.Flatten(input_shape=(28, 28)),\n",
        "    keras.layers.Dense(1024, activation=tf.nn.relu),\n",
        "    keras.layers.Dense(1024, activation=tf.nn.relu),\n",
        "    keras.layers.Dense(1024, activation=tf.nn.relu),\n",
        "    keras.layers.Dense(10, activation=tf.nn.softmax)\n",
        "])\n",
        "\n",
        "# compile the model\n",
        "\n",
        "model.compile(optimizer='adam',\n",
        "             loss='sparse_categorical_crossentropy',\n",
        "             metrics=['accuracy'])\n",
        "\n",
        "# train the model\n",
        "epochs = 20\n",
        "history = model.fit(train_images, \n",
        "                      train_labels, \n",
        "                      epochs=epochs,  \n",
        "                      validation_data=(test_images, test_labels))"
      ],
      "execution_count": 0,
      "outputs": [
        {
          "output_type": "stream",
          "text": [
            "Train on 60000 samples, validate on 10000 samples\n",
            "Epoch 1/20\n",
            "60000/60000 [==============================] - 12s 195us/sample - loss: 0.4878 - acc: 0.8211 - val_loss: 0.4549 - val_acc: 0.8340\n",
            "Epoch 2/20\n",
            "60000/60000 [==============================] - 12s 193us/sample - loss: 0.3761 - acc: 0.8630 - val_loss: 0.4091 - val_acc: 0.8519\n",
            "Epoch 3/20\n",
            "60000/60000 [==============================] - 12s 192us/sample - loss: 0.3339 - acc: 0.8776 - val_loss: 0.3659 - val_acc: 0.8720\n",
            "Epoch 4/20\n",
            "60000/60000 [==============================] - 12s 193us/sample - loss: 0.3105 - acc: 0.8849 - val_loss: 0.3709 - val_acc: 0.8652\n",
            "Epoch 5/20\n",
            "60000/60000 [==============================] - 12s 192us/sample - loss: 0.2928 - acc: 0.8912 - val_loss: 0.3453 - val_acc: 0.8762\n",
            "Epoch 6/20\n",
            "60000/60000 [==============================] - 11s 191us/sample - loss: 0.2763 - acc: 0.8959 - val_loss: 0.3269 - val_acc: 0.8821\n",
            "Epoch 7/20\n",
            "60000/60000 [==============================] - 11s 191us/sample - loss: 0.2650 - acc: 0.9002 - val_loss: 0.3621 - val_acc: 0.8735\n",
            "Epoch 8/20\n",
            "60000/60000 [==============================] - 11s 191us/sample - loss: 0.2536 - acc: 0.9042 - val_loss: 0.3432 - val_acc: 0.8814\n",
            "Epoch 9/20\n",
            "60000/60000 [==============================] - 11s 190us/sample - loss: 0.2429 - acc: 0.9086 - val_loss: 0.3426 - val_acc: 0.8860\n",
            "Epoch 10/20\n",
            "60000/60000 [==============================] - 12s 192us/sample - loss: 0.2347 - acc: 0.9114 - val_loss: 0.3593 - val_acc: 0.8794\n",
            "Epoch 11/20\n",
            "60000/60000 [==============================] - 11s 192us/sample - loss: 0.2277 - acc: 0.9140 - val_loss: 0.4085 - val_acc: 0.8756\n",
            "Epoch 12/20\n",
            "60000/60000 [==============================] - 11s 191us/sample - loss: 0.2219 - acc: 0.9146 - val_loss: 0.3450 - val_acc: 0.8853\n",
            "Epoch 13/20\n",
            "60000/60000 [==============================] - 12s 192us/sample - loss: 0.2162 - acc: 0.9192 - val_loss: 0.3958 - val_acc: 0.8864\n",
            "Epoch 14/20\n",
            "60000/60000 [==============================] - 11s 191us/sample - loss: 0.2139 - acc: 0.9198 - val_loss: 0.3615 - val_acc: 0.8837\n",
            "Epoch 15/20\n",
            "60000/60000 [==============================] - 11s 190us/sample - loss: 0.2020 - acc: 0.9238 - val_loss: 0.3946 - val_acc: 0.8844\n",
            "Epoch 16/20\n",
            "60000/60000 [==============================] - 12s 192us/sample - loss: 0.1926 - acc: 0.9274 - val_loss: 0.4004 - val_acc: 0.8906\n",
            "Epoch 17/20\n",
            "60000/60000 [==============================] - 11s 191us/sample - loss: 0.1936 - acc: 0.9264 - val_loss: 0.3883 - val_acc: 0.8829\n",
            "Epoch 18/20\n",
            "60000/60000 [==============================] - 11s 191us/sample - loss: 0.1905 - acc: 0.9289 - val_loss: 0.4012 - val_acc: 0.8892\n",
            "Epoch 19/20\n",
            "60000/60000 [==============================] - 12s 193us/sample - loss: 0.1840 - acc: 0.9301 - val_loss: 0.4020 - val_acc: 0.8912\n",
            "Epoch 20/20\n",
            "60000/60000 [==============================] - 11s 192us/sample - loss: 0.1733 - acc: 0.9333 - val_loss: 0.4566 - val_acc: 0.8912\n"
          ],
          "name": "stdout"
        }
      ]
    },
    {
      "cell_type": "markdown",
      "metadata": {
        "colab_type": "text",
        "id": "7yUjUkJN3Uqv"
      },
      "source": [
        "## Evaluate accuracy"
      ]
    },
    {
      "cell_type": "code",
      "metadata": {
        "colab_type": "code",
        "outputId": "836ad40c-dd93-4cb5-8cbd-8018394021c4",
        "id": "onKHD5d33Uq1",
        "colab": {
          "base_uri": "https://localhost:8080/",
          "height": 51
        }
      },
      "source": [
        "test_loss, test_acc = model.evaluate(test_images, test_labels)\n",
        "\n",
        "print('Test accuracy:', test_acc)"
      ],
      "execution_count": 0,
      "outputs": [
        {
          "output_type": "stream",
          "text": [
            "10000/10000 [==============================] - 1s 85us/sample - loss: 0.4566 - acc: 0.8912\n",
            "Test accuracy: 0.8912\n"
          ],
          "name": "stdout"
        }
      ]
    },
    {
      "cell_type": "markdown",
      "metadata": {
        "colab_type": "text",
        "id": "sGmg25X53Uq-"
      },
      "source": [
        "## Training/test loss/accuracy during training"
      ]
    },
    {
      "cell_type": "code",
      "metadata": {
        "colab_type": "code",
        "id": "g-IFESWS3Uq_",
        "colab": {}
      },
      "source": [
        "history_dict = history.history\n",
        "loss_values = history_dict['loss']\n",
        "test_loss_values = history_dict['val_loss']\n",
        "epochs_range = range(1, epochs+1)"
      ],
      "execution_count": 0,
      "outputs": []
    },
    {
      "cell_type": "code",
      "metadata": {
        "colab_type": "code",
        "outputId": "11da47f6-2ad7-4acc-c59c-e1688273a390",
        "id": "G8LI2r6z3UrD",
        "colab": {
          "base_uri": "https://localhost:8080/",
          "height": 295
        }
      },
      "source": [
        "plt.plot(epochs_range, loss_values, 'bo', label='Training loss')\n",
        "plt.plot(epochs_range, test_loss_values, 'ro', label='Test loss')\n",
        "plt.title('Training and test loss')\n",
        "plt.xlabel('Epochs')\n",
        "plt.ylabel('Loss')\n",
        "plt.legend()\n",
        "plt.show()"
      ],
      "execution_count": 0,
      "outputs": [
        {
          "output_type": "display_data",
          "data": {
            "image/png": "[encoded data removed]",
            "text/plain": [
              "<Figure size 432x288 with 1 Axes>"
            ]
          },
          "metadata": {
            "tags": []
          }
        }
      ]
    },
    {
      "cell_type": "code",
      "metadata": {
        "colab_type": "code",
        "id": "g4PPqEbg3UrH",
        "colab": {}
      },
      "source": [
        "acc_values = history_dict['acc']\n",
        "test_acc_values = history_dict['val_acc']"
      ],
      "execution_count": 0,
      "outputs": []
    },
    {
      "cell_type": "code",
      "metadata": {
        "colab_type": "code",
        "outputId": "6a59ec11-f521-4fd6-9e13-9e8b3fdd9430",
        "id": "wkpeLdfQ3UrK",
        "colab": {
          "base_uri": "https://localhost:8080/",
          "height": 295
        }
      },
      "source": [
        "plt.plot(epochs_range, acc_values, 'bo', label='Training accuracy')\n",
        "plt.plot(epochs_range, test_acc_values, 'ro', label='Test accuracy')\n",
        "plt.title('Training and test accuracy')\n",
        "plt.xlabel('Epochs')\n",
        "plt.ylabel('Accuracy')\n",
        "plt.legend()\n",
        "plt.show()"
      ],
      "execution_count": 0,
      "outputs": [
        {
          "output_type": "display_data",
          "data": {
            "image/png": "[encoded data removed]",
            "text/plain": [
              "<Figure size 432x288 with 1 Axes>"
            ]
          },
          "metadata": {
            "tags": []
          }
        }
      ]
    },
    {
      "cell_type": "markdown",
      "metadata": {
        "id": "pwavgDvp3rMD",
        "colab_type": "text"
      },
      "source": [
        "## Underfit Model"
      ]
    },
    {
      "cell_type": "code",
      "metadata": {
        "id": "l98WPbyM3vPZ",
        "colab_type": "code",
        "outputId": "866f225c-6e43-431a-b71f-6d053142f175",
        "colab": {
          "base_uri": "https://localhost:8080/",
          "height": 785
        }
      },
      "source": [
        "# set up the layers\n",
        "\n",
        "model = keras.Sequential([\n",
        "    keras.layers.Flatten(input_shape=(28, 28)),\n",
        "    keras.layers.Dense(10, activation=tf.nn.relu)\n",
        "])\n",
        "\n",
        "# compile the model\n",
        "\n",
        "model.compile(optimizer='adam',\n",
        "             loss='sparse_categorical_crossentropy',\n",
        "             metrics=['accuracy'])\n",
        "\n",
        "# train the model\n",
        "epochs = 20\n",
        "history = model.fit(train_images, \n",
        "                      train_labels, \n",
        "                      epochs=epochs,  \n",
        "                      validation_data=(test_images, test_labels))"
      ],
      "execution_count": 0,
      "outputs": [
        {
          "output_type": "stream",
          "text": [
            "WARNING:tensorflow:From /usr/local/lib/python3.6/dist-packages/tensorflow_core/python/ops/math_grad.py:1424: where (from tensorflow.python.ops.array_ops) is deprecated and will be removed in a future version.\n",
            "Instructions for updating:\n",
            "Use tf.where in 2.0, which has the same broadcast rule as np.where\n",
            "Train on 60000 samples, validate on 10000 samples\n",
            "Epoch 1/20\n",
            "60000/60000 [==============================] - 6s 95us/sample - loss: 2.3247 - acc: 0.1004 - val_loss: 2.3026 - val_acc: 0.1000\n",
            "Epoch 2/20\n",
            "60000/60000 [==============================] - 6s 96us/sample - loss: 2.3025 - acc: 0.1000 - val_loss: 2.3026 - val_acc: 0.1000\n",
            "Epoch 3/20\n",
            "60000/60000 [==============================] - 5s 91us/sample - loss: 2.3025 - acc: 0.1000 - val_loss: 2.3026 - val_acc: 0.1000\n",
            "Epoch 4/20\n",
            "60000/60000 [==============================] - 5s 89us/sample - loss: 2.3025 - acc: 0.1000 - val_loss: 2.3026 - val_acc: 0.1000\n",
            "Epoch 5/20\n",
            "60000/60000 [==============================] - 5s 89us/sample - loss: 2.3025 - acc: 0.1000 - val_loss: 2.3026 - val_acc: 0.1000\n",
            "Epoch 6/20\n",
            "60000/60000 [==============================] - 5s 90us/sample - loss: 2.3025 - acc: 0.1000 - val_loss: 2.3026 - val_acc: 0.1000\n",
            "Epoch 7/20\n",
            "60000/60000 [==============================] - 5s 90us/sample - loss: 2.3025 - acc: 0.1000 - val_loss: 2.3026 - val_acc: 0.1000\n",
            "Epoch 8/20\n",
            "60000/60000 [==============================] - 5s 88us/sample - loss: 2.3025 - acc: 0.1000 - val_loss: 2.3026 - val_acc: 0.1000\n",
            "Epoch 9/20\n",
            "60000/60000 [==============================] - 5s 89us/sample - loss: 2.3025 - acc: 0.1000 - val_loss: 2.3026 - val_acc: 0.1000\n",
            "Epoch 10/20\n",
            "60000/60000 [==============================] - 5s 88us/sample - loss: 2.3025 - acc: 0.1000 - val_loss: 2.3026 - val_acc: 0.1000\n",
            "Epoch 11/20\n",
            "60000/60000 [==============================] - 5s 88us/sample - loss: 2.3027 - acc: 0.1000 - val_loss: 2.3026 - val_acc: 0.1000\n",
            "Epoch 12/20\n",
            "60000/60000 [==============================] - 6s 92us/sample - loss: 2.3026 - acc: 0.1000 - val_loss: 2.3026 - val_acc: 0.1000\n",
            "Epoch 13/20\n",
            "60000/60000 [==============================] - 6s 93us/sample - loss: 2.3026 - acc: 0.1000 - val_loss: 2.3026 - val_acc: 0.1000\n",
            "Epoch 14/20\n",
            "60000/60000 [==============================] - 5s 89us/sample - loss: 2.3026 - acc: 0.1000 - val_loss: 2.3026 - val_acc: 0.1000\n",
            "Epoch 15/20\n",
            "60000/60000 [==============================] - 5s 89us/sample - loss: 2.3026 - acc: 0.1000 - val_loss: 2.3026 - val_acc: 0.1000\n",
            "Epoch 16/20\n",
            "60000/60000 [==============================] - 5s 90us/sample - loss: 2.3026 - acc: 0.1000 - val_loss: 2.3026 - val_acc: 0.1000\n",
            "Epoch 17/20\n",
            "60000/60000 [==============================] - 5s 89us/sample - loss: 2.3026 - acc: 0.1000 - val_loss: 2.3026 - val_acc: 0.1000\n",
            "Epoch 18/20\n",
            "60000/60000 [==============================] - 5s 89us/sample - loss: 2.3026 - acc: 0.1000 - val_loss: 2.3026 - val_acc: 0.1000\n",
            "Epoch 19/20\n",
            "60000/60000 [==============================] - 5s 89us/sample - loss: 2.3026 - acc: 0.1000 - val_loss: 2.3026 - val_acc: 0.1000\n",
            "Epoch 20/20\n",
            "60000/60000 [==============================] - 5s 89us/sample - loss: 2.3026 - acc: 0.1000 - val_loss: 2.3026 - val_acc: 0.1000\n"
          ],
          "name": "stdout"
        }
      ]
    },
    {
      "cell_type": "markdown",
      "metadata": {
        "colab_type": "text",
        "id": "j8XvQvUX36iL"
      },
      "source": [
        "## Evaluate accuracy"
      ]
    },
    {
      "cell_type": "code",
      "metadata": {
        "colab_type": "code",
        "outputId": "979f2221-9f6c-44b6-abf0-a5d847fd8e86",
        "id": "S5HANigj36iM",
        "colab": {
          "base_uri": "https://localhost:8080/",
          "height": 51
        }
      },
      "source": [
        "test_loss, test_acc = model.evaluate(test_images, test_labels)\n",
        "\n",
        "print('Test accuracy:', test_acc)"
      ],
      "execution_count": 0,
      "outputs": [
        {
          "output_type": "stream",
          "text": [
            "10000/10000 [==============================] - 1s 57us/sample - loss: 2.3026 - acc: 0.1000\n",
            "Test accuracy: 0.1\n"
          ],
          "name": "stdout"
        }
      ]
    },
    {
      "cell_type": "markdown",
      "metadata": {
        "colab_type": "text",
        "id": "TlU5xcQH36iO"
      },
      "source": [
        "## Training/test loss/accuracy during training"
      ]
    },
    {
      "cell_type": "code",
      "metadata": {
        "colab_type": "code",
        "id": "Eyaq906h36iO",
        "colab": {}
      },
      "source": [
        "history_dict = history.history\n",
        "loss_values = history_dict['loss']\n",
        "test_loss_values = history_dict['val_loss']\n",
        "epochs_range = range(1, epochs+1)"
      ],
      "execution_count": 0,
      "outputs": []
    },
    {
      "cell_type": "code",
      "metadata": {
        "colab_type": "code",
        "outputId": "f02bd45e-38c5-4869-c188-50421e1902ee",
        "id": "iPQF_c6A36iQ",
        "colab": {
          "base_uri": "https://localhost:8080/",
          "height": 295
        }
      },
      "source": [
        "plt.plot(epochs_range, loss_values, 'bo', label='Training loss')\n",
        "plt.plot(epochs_range, test_loss_values, 'ro', label='Test loss')\n",
        "plt.title('Training and test loss')\n",
        "plt.xlabel('Epochs')\n",
        "plt.ylabel('Loss')\n",
        "plt.legend()\n",
        "plt.show()"
      ],
      "execution_count": 0,
      "outputs": [
        {
          "output_type": "display_data",
          "data": {
            "image/png": "[encoded data removed]",
            "text/plain": [
              "<Figure size 432x288 with 1 Axes>"
            ]
          },
          "metadata": {
            "tags": []
          }
        }
      ]
    },
    {
      "cell_type": "code",
      "metadata": {
        "colab_type": "code",
        "id": "IX0Ga7PB36iS",
        "colab": {}
      },
      "source": [
        "acc_values = history_dict['acc']\n",
        "test_acc_values = history_dict['val_acc']"
      ],
      "execution_count": 0,
      "outputs": []
    },
    {
      "cell_type": "code",
      "metadata": {
        "colab_type": "code",
        "outputId": "945ad99d-02d9-43f3-e32f-345fcfbec5bb",
        "id": "sQvfqB-h36iT",
        "colab": {
          "base_uri": "https://localhost:8080/",
          "height": 295
        }
      },
      "source": [
        "plt.plot(epochs_range, acc_values, 'bo', label='Training accuracy')\n",
        "plt.plot(epochs_range, test_acc_values, 'ro', label='Test accuracy')\n",
        "plt.title('Training and test accuracy')\n",
        "plt.xlabel('Epochs')\n",
        "plt.ylabel('Accuracy')\n",
        "plt.legend()\n",
        "plt.show()"
      ],
      "execution_count": 0,
      "outputs": [
        {
          "output_type": "display_data",
          "data": {
            "image/png": "[encoded data removed]",
            "text/plain": [
              "<Figure size 432x288 with 1 Axes>"
            ]
          },
          "metadata": {
            "tags": []
          }
        }
      ]
    }
  ]
}