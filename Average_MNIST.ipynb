{
  "nbformat": 4,
  "nbformat_minor": 0,
  "metadata": {
    "colab": {
      "name": "Average MNIST.ipynb",
      "provenance": [],
      "collapsed_sections": [],
      "include_colab_link": true
    },
    "kernelspec": {
      "name": "python3",
      "display_name": "Python 3"
    }
  },
  "cells": [
    {
      "cell_type": "markdown",
      "metadata": {
        "id": "view-in-github",
        "colab_type": "text"
      },
      "source": [
        "<a href=\"https://colab.research.google.com/github/Tanvir1080/ArtificalIntelligence-2019/blob/master/Average_MNIST.ipynb\" target=\"_parent\"><img src=\"https://colab.research.google.com/assets/colab-badge.svg\" alt=\"Open In Colab\"/></a>"
      ]
    },
    {
      "cell_type": "code",
      "metadata": {
        "id": "fuQ2Ax1cG05k",
        "colab_type": "code",
        "outputId": "e6b7d982-6529-4d27-fe97-1e6c7e0ed311",
        "colab": {
          "base_uri": "https://localhost:8080/",
          "height": 34
        }
      },
      "source": [
        "%matplotlib inline\n",
        "import numpy as np\n",
        "import matplotlib.pyplot as plt\n",
        "from keras.datasets import mnist"
      ],
      "execution_count": 1,
      "outputs": [
        {
          "output_type": "stream",
          "text": [
            "Using TensorFlow backend.\n"
          ],
          "name": "stderr"
        }
      ]
    },
    {
      "cell_type": "code",
      "metadata": {
        "id": "W-g-tSk5HAfJ",
        "colab_type": "code",
        "outputId": "51fd7009-66e7-4307-d961-0e3292d414f3",
        "colab": {
          "base_uri": "https://localhost:8080/",
          "height": 51
        }
      },
      "source": [
        "(trainingImgs, trainingLbls), (testingImgs, testingLbls) = mnist.load_data()"
      ],
      "execution_count": 2,
      "outputs": [
        {
          "output_type": "stream",
          "text": [
            "Downloading data from https://s3.amazonaws.com/img-datasets/mnist.npz\n",
            "11493376/11490434 [==============================] - 2s 0us/step\n"
          ],
          "name": "stdout"
        }
      ]
    },
    {
      "cell_type": "code",
      "metadata": {
        "id": "Lvgt7b0QIUWe",
        "colab_type": "code",
        "colab": {}
      },
      "source": [
        "# 10 possible numbers (images), each is of size 28 * 28\n",
        "imageAverages = np.zeros((10, 28, 28))\n",
        "imageCount = np.zeros(10,)"
      ],
      "execution_count": 0,
      "outputs": []
    },
    {
      "cell_type": "code",
      "metadata": {
        "id": "xJbdoP8QInHM",
        "colab_type": "code",
        "colab": {}
      },
      "source": [
        "# rudimentary for loop \n",
        "# this goes through and adds each image we see to its appropriate array element\n",
        "# and increments the count for how many times we've seen that number\n",
        "for i in range(len(trainingImgs)):\n",
        "  index = trainingLbls[i] - 1\n",
        "  imageAverages[index] += trainingImgs[i]\n",
        "  imageCount[index] += 1"
      ],
      "execution_count": 0,
      "outputs": []
    },
    {
      "cell_type": "code",
      "metadata": {
        "id": "kpRu7OJ0JDGd",
        "colab_type": "code",
        "colab": {}
      },
      "source": [
        "# Normalization\n",
        "# this actually does the \"averaging of the images\"\n",
        "\n",
        "for i in range(len(imageAverages)):\n",
        "  imageAverages[i] /= imageCount[i]"
      ],
      "execution_count": 0,
      "outputs": []
    },
    {
      "cell_type": "code",
      "metadata": {
        "id": "AgXhYPRSJtbQ",
        "colab_type": "code",
        "outputId": "95613654-ac4a-417e-97ba-9f940ef950f1",
        "colab": {
          "base_uri": "https://localhost:8080/",
          "height": 313
        }
      },
      "source": [
        "plt.figure(figsize=(10, 10))\n",
        "plt.suptitle('Average Appearance of Each number')\n",
        "\n",
        "for i in range(len(imageAverages)):\n",
        "  plt.subplot(5, 5, i+1)\n",
        "  plt.xticks([])\n",
        "  plt.yticks([])\n",
        "  plt.grid(False)\n",
        "  plt.imshow(imageAverages[i], cmap=plt.cm.RdPu)\n",
        "\n",
        "plt.show()"
      ],
      "execution_count": 6,
      "outputs": [
        {
          "output_type": "display_data",
          "data": {
            "image/png": "[encoded data removed]",
            "text/plain": [
              "<Figure size 720x720 with 10 Axes>"
            ]
          },
          "metadata": {
            "tags": []
          }
        }
      ]
    }
  ]
}